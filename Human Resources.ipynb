{
 "cells": [
  {
   "cell_type": "code",
   "execution_count": 53,
   "id": "31f6fd2f-d849-4fb9-8a40-1563da54d18d",
   "metadata": {},
   "outputs": [],
   "source": [
    "import pandas as pd\n",
    "import numpy as np\n",
    "import matplotlib.pyplot as plt"
   ]
  },
  {
   "cell_type": "code",
   "execution_count": 54,
   "id": "3711f700-6d2a-4ab0-bebd-1113e1dce2e5",
   "metadata": {},
   "outputs": [
    {
     "data": {
      "text/html": [
       "<div>\n",
       "<style scoped>\n",
       "    .dataframe tbody tr th:only-of-type {\n",
       "        vertical-align: middle;\n",
       "    }\n",
       "\n",
       "    .dataframe tbody tr th {\n",
       "        vertical-align: top;\n",
       "    }\n",
       "\n",
       "    .dataframe thead th {\n",
       "        text-align: right;\n",
       "    }\n",
       "</style>\n",
       "<table border=\"1\" class=\"dataframe\">\n",
       "  <thead>\n",
       "    <tr style=\"text-align: right;\">\n",
       "      <th></th>\n",
       "      <th>id</th>\n",
       "      <th>first_name</th>\n",
       "      <th>last_name</th>\n",
       "      <th>birthdate</th>\n",
       "      <th>gender</th>\n",
       "      <th>race</th>\n",
       "      <th>department</th>\n",
       "      <th>jobtitle</th>\n",
       "      <th>location</th>\n",
       "      <th>hire_date</th>\n",
       "      <th>termdate</th>\n",
       "      <th>location_city</th>\n",
       "      <th>location_state</th>\n",
       "    </tr>\n",
       "  </thead>\n",
       "  <tbody>\n",
       "    <tr>\n",
       "      <th>0</th>\n",
       "      <td>00-0037846</td>\n",
       "      <td>Kimmy</td>\n",
       "      <td>Walczynski</td>\n",
       "      <td>6/4/1991</td>\n",
       "      <td>Male</td>\n",
       "      <td>Hispanic or Latino</td>\n",
       "      <td>Engineering</td>\n",
       "      <td>Programmer Analyst I</td>\n",
       "      <td>Headquarters</td>\n",
       "      <td>1/20/2002</td>\n",
       "      <td>NaN</td>\n",
       "      <td>Cleveland</td>\n",
       "      <td>Ohio</td>\n",
       "    </tr>\n",
       "    <tr>\n",
       "      <th>1</th>\n",
       "      <td>00-0041533</td>\n",
       "      <td>Ignatius</td>\n",
       "      <td>Springett</td>\n",
       "      <td>6/29/1984</td>\n",
       "      <td>Male</td>\n",
       "      <td>White</td>\n",
       "      <td>Business Development</td>\n",
       "      <td>Business Analyst</td>\n",
       "      <td>Headquarters</td>\n",
       "      <td>4/8/2019</td>\n",
       "      <td>NaN</td>\n",
       "      <td>Cleveland</td>\n",
       "      <td>Ohio</td>\n",
       "    </tr>\n",
       "    <tr>\n",
       "      <th>2</th>\n",
       "      <td>00-0045747</td>\n",
       "      <td>Corbie</td>\n",
       "      <td>Bittlestone</td>\n",
       "      <td>7/29/1989</td>\n",
       "      <td>Male</td>\n",
       "      <td>Black or African American</td>\n",
       "      <td>Sales</td>\n",
       "      <td>Solutions Engineer Manager</td>\n",
       "      <td>Headquarters</td>\n",
       "      <td>10/12/2010</td>\n",
       "      <td>NaN</td>\n",
       "      <td>Cleveland</td>\n",
       "      <td>Ohio</td>\n",
       "    </tr>\n",
       "    <tr>\n",
       "      <th>3</th>\n",
       "      <td>00-0055274</td>\n",
       "      <td>Baxy</td>\n",
       "      <td>Matton</td>\n",
       "      <td>9/14/1982</td>\n",
       "      <td>Female</td>\n",
       "      <td>White</td>\n",
       "      <td>Services</td>\n",
       "      <td>Service Tech</td>\n",
       "      <td>Headquarters</td>\n",
       "      <td>4/10/2005</td>\n",
       "      <td>NaN</td>\n",
       "      <td>Cleveland</td>\n",
       "      <td>Ohio</td>\n",
       "    </tr>\n",
       "    <tr>\n",
       "      <th>4</th>\n",
       "      <td>00-0076100</td>\n",
       "      <td>Terrell</td>\n",
       "      <td>Suff</td>\n",
       "      <td>4/11/1994</td>\n",
       "      <td>Female</td>\n",
       "      <td>Two or More Races</td>\n",
       "      <td>Product Management</td>\n",
       "      <td>Business Analyst</td>\n",
       "      <td>Remote</td>\n",
       "      <td>9/29/2010</td>\n",
       "      <td>2029-10-29 06:09:38 UTC</td>\n",
       "      <td>Flint</td>\n",
       "      <td>Michigan</td>\n",
       "    </tr>\n",
       "  </tbody>\n",
       "</table>\n",
       "</div>"
      ],
      "text/plain": [
       "           id first_name    last_name  birthdate  gender  \\\n",
       "0  00-0037846      Kimmy   Walczynski   6/4/1991    Male   \n",
       "1  00-0041533   Ignatius    Springett  6/29/1984    Male   \n",
       "2  00-0045747     Corbie  Bittlestone  7/29/1989    Male   \n",
       "3  00-0055274       Baxy       Matton  9/14/1982  Female   \n",
       "4  00-0076100    Terrell         Suff  4/11/1994  Female   \n",
       "\n",
       "                        race            department  \\\n",
       "0         Hispanic or Latino           Engineering   \n",
       "1                      White  Business Development   \n",
       "2  Black or African American                 Sales   \n",
       "3                      White              Services   \n",
       "4          Two or More Races    Product Management   \n",
       "\n",
       "                     jobtitle      location   hire_date  \\\n",
       "0        Programmer Analyst I  Headquarters   1/20/2002   \n",
       "1            Business Analyst  Headquarters    4/8/2019   \n",
       "2  Solutions Engineer Manager  Headquarters  10/12/2010   \n",
       "3                Service Tech  Headquarters   4/10/2005   \n",
       "4            Business Analyst        Remote   9/29/2010   \n",
       "\n",
       "                  termdate location_city location_state  \n",
       "0                      NaN     Cleveland           Ohio  \n",
       "1                      NaN     Cleveland           Ohio  \n",
       "2                      NaN     Cleveland           Ohio  \n",
       "3                      NaN     Cleveland           Ohio  \n",
       "4  2029-10-29 06:09:38 UTC         Flint       Michigan  "
      ]
     },
     "execution_count": 54,
     "metadata": {},
     "output_type": "execute_result"
    }
   ],
   "source": [
    "df =  pd.read_csv('Human Resources.csv')\n",
    "df.head()"
   ]
  },
  {
   "cell_type": "code",
   "execution_count": 55,
   "id": "c387d730-ef19-462c-be3b-c0ab96a78f28",
   "metadata": {},
   "outputs": [
    {
     "data": {
      "text/plain": [
       "(37408, 13)"
      ]
     },
     "execution_count": 55,
     "metadata": {},
     "output_type": "execute_result"
    }
   ],
   "source": [
    "df.shape"
   ]
  },
  {
   "cell_type": "code",
   "execution_count": 56,
   "id": "3262f38a-6711-4459-9872-406dff87c898",
   "metadata": {},
   "outputs": [
    {
     "name": "stdout",
     "output_type": "stream",
     "text": [
      "<class 'pandas.core.frame.DataFrame'>\n",
      "RangeIndex: 37408 entries, 0 to 37407\n",
      "Data columns (total 13 columns):\n",
      " #   Column          Non-Null Count  Dtype \n",
      "---  ------          --------------  ----- \n",
      " 0   id              22214 non-null  object\n",
      " 1   first_name      22214 non-null  object\n",
      " 2   last_name       22214 non-null  object\n",
      " 3   birthdate       22214 non-null  object\n",
      " 4   gender          22214 non-null  object\n",
      " 5   race            22214 non-null  object\n",
      " 6   department      22214 non-null  object\n",
      " 7   jobtitle        22267 non-null  object\n",
      " 8   location        22214 non-null  object\n",
      " 9   hire_date       22214 non-null  object\n",
      " 10  termdate        3929 non-null   object\n",
      " 11  location_city   22214 non-null  object\n",
      " 12  location_state  22214 non-null  object\n",
      "dtypes: object(13)\n",
      "memory usage: 3.7+ MB\n"
     ]
    }
   ],
   "source": [
    "df.info()"
   ]
  },
  {
   "cell_type": "code",
   "execution_count": 57,
   "id": "5854d576-16f0-4b85-84f7-f1aaa0f35882",
   "metadata": {},
   "outputs": [],
   "source": [
    "categorical_vars = df.select_dtypes(include=['object', 'category'])\n",
    "numerical_vars = df.select_dtypes(include=['int', 'float'])"
   ]
  },
  {
   "cell_type": "code",
   "execution_count": 58,
   "id": "562b0e7e-1e4d-48b2-af75-ca5b58ae19b6",
   "metadata": {},
   "outputs": [
    {
     "name": "stdout",
     "output_type": "stream",
     "text": [
      "Categorical Variables:\n",
      "Index(['id', 'first_name', 'last_name', 'birthdate', 'gender', 'race',\n",
      "       'department', 'jobtitle', 'location', 'hire_date', 'termdate',\n",
      "       'location_city', 'location_state'],\n",
      "      dtype='object')\n",
      "\n",
      "Numerical Variables:\n",
      "Index([], dtype='object')\n"
     ]
    }
   ],
   "source": [
    "print(\"Categorical Variables:\")\n",
    "print(categorical_vars.columns)\n",
    "\n",
    "print(\"\\nNumerical Variables:\")\n",
    "print(numerical_vars.columns)"
   ]
  },
  {
   "cell_type": "code",
   "execution_count": 59,
   "id": "3110516f-e6e4-4656-a813-e0992c36633f",
   "metadata": {},
   "outputs": [
    {
     "name": "stdout",
     "output_type": "stream",
     "text": [
      "Continuous Variables:\n",
      "[]\n",
      "\n",
      "Discrete Variables:\n",
      "[]\n"
     ]
    }
   ],
   "source": [
    "continuous_vars = []\n",
    "discrete_vars = []\n",
    "\n",
    "for column in df.columns:\n",
    "    if df[column].dtype == 'int64' or df[column].dtype == 'float64':\n",
    "        if len(df[column].unique()) > 20:\n",
    "            continuous_vars.append(column)\n",
    "        else:\n",
    "            discrete_vars.append(column)\n",
    "\n",
    "# Print the identified variables\n",
    "print(\"Continuous Variables:\")\n",
    "print(continuous_vars)\n",
    "\n",
    "print(\"\\nDiscrete Variables:\")\n",
    "print(discrete_vars)"
   ]
  },
  {
   "cell_type": "code",
   "execution_count": 60,
   "id": "544bb42d-a0c6-4cc8-bc6a-a2355e66f6a8",
   "metadata": {},
   "outputs": [
    {
     "data": {
      "text/plain": [
       "id                0\n",
       "first_name        0\n",
       "last_name         0\n",
       "birthdate         0\n",
       "gender            0\n",
       "race              0\n",
       "department        0\n",
       "jobtitle          0\n",
       "location          0\n",
       "hire_date         0\n",
       "termdate          0\n",
       "location_city     0\n",
       "location_state    0\n",
       "dtype: int64"
      ]
     },
     "execution_count": 60,
     "metadata": {},
     "output_type": "execute_result"
    }
   ],
   "source": [
    "df.isnull().isnull().sum()"
   ]
  },
  {
   "cell_type": "code",
   "execution_count": 61,
   "id": "1d192025-7897-4346-bdd5-b93f5b20b671",
   "metadata": {},
   "outputs": [
    {
     "data": {
      "text/plain": [
       "Index(['id', 'first_name', 'last_name', 'birthdate', 'gender', 'race',\n",
       "       'department', 'jobtitle', 'location', 'hire_date', 'termdate',\n",
       "       'location_city', 'location_state'],\n",
       "      dtype='object')"
      ]
     },
     "execution_count": 61,
     "metadata": {},
     "output_type": "execute_result"
    }
   ],
   "source": [
    "df.columns"
   ]
  },
  {
   "cell_type": "code",
   "execution_count": 62,
   "id": "fc950f2f-e64d-4ad1-b9ba-149e247e9c47",
   "metadata": {},
   "outputs": [
    {
     "data": {
      "text/plain": [
       "gender\n",
       "Male              11288\n",
       "Female            10321\n",
       "Non-Conforming      605\n",
       "Name: count, dtype: int64"
      ]
     },
     "execution_count": 62,
     "metadata": {},
     "output_type": "execute_result"
    }
   ],
   "source": [
    "gen = df['gender'].value_counts()\n",
    "gen"
   ]
  },
  {
   "cell_type": "markdown",
   "id": "3d159aeb-1b1b-4821-be1f-c0e101db47cc",
   "metadata": {},
   "source": [
    "# How many are female and white?"
   ]
  },
  {
   "cell_type": "code",
   "execution_count": 63,
   "id": "85d768cc-f166-4228-b97b-74320d4c35c2",
   "metadata": {},
   "outputs": [
    {
     "name": "stdout",
     "output_type": "stream",
     "text": [
      "Number of employees who are female and white: 0\n"
     ]
    }
   ],
   "source": [
    "female_white = len(df[(df['gender'] == 'female') & (df['race'] == 'white')])\n",
    "\n",
    "# Display the count of female and white employees\n",
    "print(f\"Number of employees who are female and white: {female_white}\")"
   ]
  },
  {
   "cell_type": "markdown",
   "id": "5757e293-115c-4936-aa1d-21130faf7cd9",
   "metadata": {},
   "source": [
    "# Look at the age, what percentage are above 50 years, and how many are Gen Z?"
   ]
  },
  {
   "cell_type": "code",
   "execution_count": 20,
   "id": "4f0b44bc-85dd-4b49-95ec-c577e3bf7046",
   "metadata": {},
   "outputs": [
    {
     "data": {
      "text/plain": [
       "birthdate\n",
       "5/9/1972      9\n",
       "5/10/1972     8\n",
       "2/24/1975     8\n",
       "1/20/1968     8\n",
       "6/6/1987      8\n",
       "             ..\n",
       "1/6/1980      1\n",
       "1/16/1966     1\n",
       "10/13/2001    1\n",
       "11/29/1972    1\n",
       "2/9/1970      1\n",
       "Name: count, Length: 10854, dtype: int64"
      ]
     },
     "execution_count": 20,
     "metadata": {},
     "output_type": "execute_result"
    }
   ],
   "source": [
    "age = df['birthdate'].value_counts()\n",
    "age"
   ]
  },
  {
   "cell_type": "code",
   "execution_count": 65,
   "id": "ac8c7f3b-609e-4c26-af32-0dce40f3b257",
   "metadata": {},
   "outputs": [],
   "source": [
    "from datetime import datetime\n",
    "# Convert 'birthdate' to a datetime object\n",
    "df['birthdate'] = pd.to_datetime(df['birthdate'])\n",
    "\n",
    "# Calculate age based on the birthdate\n",
    "current_date = pd.to_datetime('now')\n",
    "df['age'] = current_date.year - df['birthdate'].dt.year\n"
   ]
  },
  {
   "cell_type": "code",
   "execution_count": 66,
   "id": "8c72bdc8-6211-4686-9a6c-ab391a1b91e1",
   "metadata": {},
   "outputs": [
    {
     "name": "stdout",
     "output_type": "stream",
     "text": [
      "Percentage above 50 years old: 11.58%\n",
      "Number of individuals in Generation Z: 2285\n"
     ]
    }
   ],
   "source": [
    "above_50 = (df['age'] > 50).mean() * 100\n",
    "\n",
    "gen_z = (df['age'] < 25).sum()\n",
    "\n",
    "print(f\"Percentage above 50 years old: {above_50:.2f}%\")\n",
    "print(f\"Number of individuals in Generation Z: {gen_z}\")"
   ]
  },
  {
   "cell_type": "code",
   "execution_count": 67,
   "id": "a2ffebea-a8f2-4bb8-b03d-909f8fbe380f",
   "metadata": {},
   "outputs": [],
   "source": [
    "# creating a genz column\n",
    "df['GenZ'] = df['age'] < 25"
   ]
  },
  {
   "cell_type": "markdown",
   "id": "ddc02b71-68ad-4337-9b9d-889caae28c21",
   "metadata": {},
   "source": [
    "# Who is the oldest employee?"
   ]
  },
  {
   "cell_type": "code",
   "execution_count": 68,
   "id": "b27ff9cb-7e29-4904-a78e-5864d7044d22",
   "metadata": {},
   "outputs": [
    {
     "name": "stdout",
     "output_type": "stream",
     "text": [
      "id                                      12-6242845\n",
      "first_name                                 Josepha\n",
      "last_name                                     Opie\n",
      "birthdate                      1965-10-16 00:00:00\n",
      "gender                                      Female\n",
      "race              American Indian or Alaska Native\n",
      "department                              Accounting\n",
      "jobtitle                            Tax Accountant\n",
      "location                              Headquarters\n",
      "hire_date                                 8/5/2015\n",
      "termdate                                       NaN\n",
      "location_city                            Cleveland\n",
      "location_state                                Ohio\n",
      "age                                           58.0\n",
      "GenZ                                         False\n",
      "Name: 2792, dtype: object\n"
     ]
    }
   ],
   "source": [
    "# Find the index of the oldest employee\n",
    "oldest = df['birthdate'].idxmin()\n",
    "\n",
    "# Get the oldest employee's information\n",
    "oldest_employee = df.loc[oldest]\n",
    "\n",
    "print(oldest_employee)"
   ]
  },
  {
   "cell_type": "markdown",
   "id": "a9a7e622-f6bd-481f-86d1-a23c6dbca107",
   "metadata": {},
   "source": [
    "# How many employees work remotely? (You can use a pie chart for this.)"
   ]
  },
  {
   "cell_type": "code",
   "execution_count": 76,
   "id": "d8775519-cbe9-41eb-9785-5395e24137c1",
   "metadata": {},
   "outputs": [
    {
     "data": {
      "image/png": "[encoded data removed]",
      "text/plain": [
       "<Figure size 640x480 with 1 Axes>"
      ]
     },
     "metadata": {},
     "output_type": "display_data"
    }
   ],
   "source": [
    "remote_work= len(df[df['location'] == 'remote'])\n",
    "non_remote_work = len(df[df['location'] != 'remote'])\n",
    "\n",
    "# Create data for the pie chart\n",
    "labels = ['Remote', 'Non-Remote']\n",
    "sizes = [remote_work, non_remote_work]\n",
    "colors = ['skyblue', 'lightcoral']\n",
    "\n",
    "\n",
    "plt.pie(sizes, labels=labels, colors=colors, autopct='%1.1f%%', startangle=140)\n",
    "\n",
    "\n",
    "plt.title(\"Employees Working Remotely vs. Non-Remotely\")\n",
    "\n",
    "plt.axis('equal')  \n",
    "plt.show()"
   ]
  },
  {
   "cell_type": "markdown",
   "id": "e6f04089-b652-4c8c-92f2-03cd3a8dd023",
   "metadata": {},
   "source": [
    "# What percentage of employees have worked for 10 years or more?"
   ]
  },
  {
   "cell_type": "code",
   "execution_count": 70,
   "id": "3eea1c7c-0ad8-4383-b9be-f4d415ace1de",
   "metadata": {},
   "outputs": [
    {
     "name": "stdout",
     "output_type": "stream",
     "text": [
      "Percentage of employees with 10 years or more of employment: 38.54%\n"
     ]
    }
   ],
   "source": [
    "df['hire_date'] = pd.to_datetime(df['hire_date'])\n",
    "\n",
    "# Calculate the years of employment\n",
    "current_date = pd.to_datetime('now')\n",
    "df['years_of_employment'] = (current_date - df['hire_date']).dt.days // 365\n",
    "\n",
    "\n",
    "percentage_10 = (df['years_of_employment'] >= 10).mean() * 100\n",
    "\n",
    "print(f\"Percentage of employees with 10 years or more of employment: {percentage_10:.2f}%\")"
   ]
  },
  {
   "cell_type": "markdown",
   "id": "2f99ff73-506d-4a45-b6d9-48471abfaceb",
   "metadata": {},
   "source": [
    "# In which area do most of the employees live?"
   ]
  },
  {
   "cell_type": "code",
   "execution_count": 72,
   "id": "b143cebd-ea8d-4bbf-b032-2af60bd23b2a",
   "metadata": {},
   "outputs": [
    {
     "name": "stdout",
     "output_type": "stream",
     "text": [
      "Most common location where employees live: Cleveland, Ohio\n",
      "Number of employees living in the most common location: 16871\n"
     ]
    }
   ],
   "source": [
    "df['location_area'] = df['location_city'] + ', ' + df['location_state']\n",
    "\n",
    "# Find the most common location area where employees live\n",
    "most_common = df['location_area'].mode()[0]\n",
    "\n",
    "num_employees = (df['location_area'] == most_common).sum()\n",
    "\n",
    "print(f\"Most common location where employees live: {most_common}\")\n",
    "print(f\"Number of employees living in the most common location: {num_employees}\")"
   ]
  },
  {
   "cell_type": "markdown",
   "id": "df662197-8373-4093-a6ea-4e56056a6bd7",
   "metadata": {},
   "source": [
    "# Which department has the most Gen Z employees?"
   ]
  },
  {
   "cell_type": "code",
   "execution_count": 73,
   "id": "f55f5ee9-309b-48d0-8374-0ec37c81787b",
   "metadata": {},
   "outputs": [
    {
     "name": "stdout",
     "output_type": "stream",
     "text": [
      "Department(s) with the most Gen Z employees:\n",
      "    department  GenZ_Count\n",
      "3  Engineering         678\n"
     ]
    }
   ],
   "source": [
    "genz_department = df[df['GenZ']].groupby('department')['id'].count().reset_index()\n",
    "genz_department.rename(columns={'id': 'GenZ_Count'}, inplace=True)\n",
    "\n",
    "# Find the department with the most Gen Z employees\n",
    "most_common = genz_department[genz_department['GenZ_Count'] == genz_department['GenZ_Count'].max()]\n",
    "\n",
    "print(\"Department(s) with the most Gen Z employees:\")\n",
    "print(most_common_department)"
   ]
  },
  {
   "cell_type": "markdown",
   "id": "e50941ad-2954-4a84-87ec-831cc31de3f6",
   "metadata": {},
   "source": [
    "# Which race has the highest number of Gen Z employees?"
   ]
  },
  {
   "cell_type": "code",
   "execution_count": 74,
   "id": "0a1833bd-ce1c-4d17-bbac-b075001f935c",
   "metadata": {},
   "outputs": [
    {
     "name": "stdout",
     "output_type": "stream",
     "text": [
      "Race(s) with the highest number of Gen Z employees:\n",
      "    race  GenZ_Count\n",
      "6  White         635\n"
     ]
    }
   ],
   "source": [
    "genz_df = df[df['GenZ']]\n",
    "\n",
    "genz_race = genz_df.groupby('race')['id'].count().reset_index()\n",
    "genz_race.rename(columns={'id': 'GenZ_Count'}, inplace=True)\n",
    "\n",
    "# Find the race with the highest number of Gen Z employees\n",
    "most_common = genz_race[genz_race['GenZ_Count'] == genz_race['GenZ_Count'].max()]\n",
    "\n",
    "print(\"Race(s) with the highest number of Gen Z employees:\")\n",
    "print(most_common)"
   ]
  },
  {
   "cell_type": "code",
   "execution_count": null,
   "id": "7aaed234-4771-4764-8abc-75fef7d783ef",
   "metadata": {},
   "outputs": [],
   "source": []
  }
 ],
 "metadata": {
  "kernelspec": {
   "display_name": "Python 3 (ipykernel)",
   "language": "python",
   "name": "python3"
  },
  "language_info": {
   "codemirror_mode": {
    "name": "ipython",
    "version": 3
   },
   "file_extension": ".py",
   "mimetype": "text/x-python",
   "name": "python",
   "nbconvert_exporter": "python",
   "pygments_lexer": "ipython3",
   "version": "3.11.3"
  }
 },
 "nbformat": 4,
 "nbformat_minor": 5
}
